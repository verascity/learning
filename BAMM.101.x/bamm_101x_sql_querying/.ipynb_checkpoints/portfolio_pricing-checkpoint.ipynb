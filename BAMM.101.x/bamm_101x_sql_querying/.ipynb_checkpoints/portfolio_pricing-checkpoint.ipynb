{
 "cells": [
  {
   "cell_type": "code",
   "execution_count": 1,
   "metadata": {
    "collapsed": true
   },
   "outputs": [],
   "source": [
    "\"\"\"\n",
    "Modify the following get_pnl and get_price so that :\n",
    "get_price returns the actual price from google finance and\n",
    "get_pnl returns a dictionary with the company name as the key and the gain as the value\n",
    "Example :\n",
    "\n",
    "get_pnl()\n",
    "\n",
    "should return(format, values will differ):\n",
    "\n",
    "{'Alphabet, Inc.': -3105.0,\n",
    " 'Apple, Inc.': 60110.0,\n",
    " 'General Electric': 12095.0,\n",
    " 'Goldman Sachs': 112416.5}\n",
    "\n",
    "Note:\n",
    "To connect to your MySQL database you have to get your credentials.\n",
    "You will find your personal database credentials under the Details/Database tab at the top of this page. Complete your Host, password, user and name as string in the startercode below.\n",
    "\n",
    "Use the provided HTM files to get the stock price from each company!\n",
    "You can open them with:\n",
    "\n",
    "filename=\"AAPL.htm\"\n",
    "with open(filename, 'r') as f:\n",
    "    response_page = BeautifulSoup(f, 'lxml')\n",
    "\n",
    "\"\"\"\n",
    "\n",
    "import mysql.connector as conn\n",
    "\n",
    "User = \"u_2268_28390_955\"\n",
    "Name = \"db_2268_28390_95596\"\n",
    "Host = \"rdscourse.c5oiflamxeov.us-west-2.rds.amazonaws.com\"\n",
    "password = \"GjBf91dfwx7w2LB9C977\"\n",
    "\n",
    "\n",
    "\"\"\"\n",
    "Do Not Change!!\n",
    "\n",
    "\"\"\"\n",
    "db = conn.connect(host = Host, user = User, password = password, database = Name )\n",
    "cursor = db.cursor()\n",
    "\n",
    "file = \"portfolio.txt\"\n",
    "with open(file,'r') as f:\n",
    "    line_count = 0\n",
    "    stocks_set = set()\n",
    "    for line in f:\n",
    "        line = line.strip()\n",
    "\n",
    "        if line_count == 0:\n",
    "            headers = line.split(':')\n",
    "            headers = [x.replace(' ','_') for x in headers]\n",
    "            query1 = \"DROP TABLE IF EXISTS stocks;\"\n",
    "            query2 = \"DROP TABLE IF EXISTS holdings\"\n",
    "            cursor.execute(query1)\n",
    "            cursor.execute(query2)\n",
    "            query1 = \"CREATE TABLE IF NOT EXISTS stocks (\"\n",
    "            query1 += headers[0] + \" VARCHAR(10),\"\n",
    "            query1 += headers[1] + \" VARCHAR(30));\"\n",
    "            query2 = \"CREATE TABLE IF NOT EXISTS holdings (\"\n",
    "            query2 += headers[0] + \" VARCHAR(10),\"\n",
    "            query2 += headers[2] + \" DECIMAL(10,2),\"\n",
    "            query2 += headers[3] + \" INT,\"\n",
    "            query2 += headers[4] + \" DATE);\"\n",
    "            cursor.execute(query1)\n",
    "            cursor.execute(query2)\n",
    "            line_count += 1\n",
    "            continue        \n",
    "        data = line.split(':')\n",
    "        stock_info = (data[0],data[1])\n",
    "        stocks_set.add(stock_info)\n",
    "        holdings_query = 'INSERT INTO holdings VALUES (\"'\n",
    "        holdings_query +=data[0] + '\",'\n",
    "        holdings_query +=data[2] + ','\n",
    "        holdings_query +=data[3] + ',\"'\n",
    "        holdings_query +=data[4] + '\");'\n",
    "        cursor.execute(holdings_query)\n",
    "for s_info in stocks_set:\n",
    "    stock_query = 'INSERT INTO stocks VALUES (\"'\n",
    "    stock_query += s_info[0] + '\",\"'\n",
    "    stock_query += s_info[1] +'\");'\n",
    "    cursor.execute(stock_query)\n",
    "db.commit()\n",
    "db.close()\n",
    "\n",
    "\"\"\"\n",
    "Change get_pnl and get_price\n",
    "\n",
    "\"\"\"\n",
    "\n",
    "def get_pnl(host=Host,user=User,name=Name,pwd=password):\n",
    "    import mysql.connector as conn\n",
    "    gain_dict = {}\n",
    "    \n",
    "    db = conn.connect(host = Host, user = User, password = password, database = Name )\n",
    "    cursor = db.cursor()\n",
    "    \n",
    "    query = '''SELECT s.Company_Name, h.Ticker, SUM(h.Purchase_Price*h.Shares), SUM(h.Shares)\n",
    "    FROM holdings AS h \n",
    "    INNER JOIN stocks AS s\n",
    "    ON h.Ticker = s.Ticker\n",
    "    GROUP BY s.Company_Name;'''\n",
    "    cursor.execute(query)\n",
    "    sums = cursor.fetchall()\n",
    "\n",
    "    for row in sums:\n",
    "        company_name = row[0]\n",
    "        price_now = get_price(row[1])\n",
    "        num_shares = float(row[3])\n",
    "        prev_price = float(row[2])\n",
    "\n",
    "        gain_dict[company_name] = (price_now * num_shares) - prev_price\n",
    "    \n",
    "    return gain_dict\n",
    "   \n",
    "def get_price(ticker):\n",
    "    \n",
    "    import requests\n",
    "    from bs4 import BeautifulSoup\n",
    "    filename = ticker + \".htm\"\n",
    "    with open(filename, 'r') as f:\n",
    "        response_page = BeautifulSoup(f, 'lxml')\n",
    "\n",
    "    price = response_page.find(\"span\", class_=\"pr\").get_text()\n",
    "    price = price.replace(\",\", \"\")\n",
    "    price = float(price)\n",
    "    \n",
    "    return price"
   ]
  },
  {
   "cell_type": "code",
   "execution_count": 2,
   "metadata": {
    "collapsed": true,
    "nbgrader": {
     "grade": true,
     "grade_id": "Test 1",
     "locked": true,
     "points": "5",
     "solution": false
    }
   },
   "outputs": [],
   "source": [
    "#\n",
    "# AUTOGRADER TEST - DO NOT REMOVE\n",
    "#\n"
   ]
  },
  {
   "cell_type": "code",
   "execution_count": 3,
   "metadata": {
    "collapsed": true,
    "nbgrader": {
     "grade": true,
     "grade_id": "Test 2",
     "locked": true,
     "points": "5",
     "solution": false
    }
   },
   "outputs": [],
   "source": [
    "#\n",
    "# AUTOGRADER TEST - DO NOT REMOVE\n",
    "#\n"
   ]
  },
  {
   "cell_type": "code",
   "execution_count": 4,
   "metadata": {
    "collapsed": true,
    "nbgrader": {
     "grade": true,
     "grade_id": "Test 3",
     "locked": true,
     "points": "5",
     "solution": false
    }
   },
   "outputs": [],
   "source": [
    "#\n",
    "# AUTOGRADER TEST - DO NOT REMOVE\n",
    "#\n"
   ]
  },
  {
   "cell_type": "code",
   "execution_count": 5,
   "metadata": {
    "collapsed": true,
    "nbgrader": {
     "grade": true,
     "grade_id": "Test 4",
     "locked": true,
     "points": "5",
     "solution": false
    }
   },
   "outputs": [],
   "source": [
    "#\n",
    "# AUTOGRADER TEST - DO NOT REMOVE\n",
    "#\n"
   ]
  },
  {
   "cell_type": "code",
   "execution_count": 6,
   "metadata": {
    "collapsed": true,
    "nbgrader": {
     "grade": true,
     "grade_id": "Test 5",
     "locked": true,
     "points": "15",
     "solution": false
    }
   },
   "outputs": [],
   "source": [
    "\n",
    "#\n",
    "# AUTOGRADER TEST - DO NOT REMOVE\n",
    "#\n"
   ]
  }
 ],
 "metadata": {
  "kernelspec": {
   "display_name": "Python 3",
   "language": "python",
   "name": "python3"
  },
  "language_info": {
   "codemirror_mode": {
    "name": "ipython",
    "version": 3
   },
   "file_extension": ".py",
   "mimetype": "text/x-python",
   "name": "python",
   "nbconvert_exporter": "python",
   "pygments_lexer": "ipython3",
   "version": "3.6.5"
  }
 },
 "nbformat": 4,
 "nbformat_minor": 2
}
