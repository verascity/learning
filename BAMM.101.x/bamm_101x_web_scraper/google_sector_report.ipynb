{
 "cells": [
  {
   "cell_type": "code",
   "execution_count": 1,
   "metadata": {},
   "outputs": [
    {
     "data": {
      "text/plain": [
       "\"\\nModify the following google_sector_report so that it returns a json \\ndump that contains the following information about each sector:\\n1. The sector name\\n2. The percentage change in sector value\\n3. The biggest gainer and the percentage change in the biggest gainer\\n4. The biggest loser and the percentage change in the biggest loser\\n\\nThe structure of the json is given in the assignment description on EdX.\\n\\nNote:\\n1. To read files, use:\\nwith open('filename') as f:\\n    lines = f.readlines()\\n2. The files needed can be seen in the Jupyter environment, so just use \\nthe four files to get your answer and DO NOT web scrape anything online.\\nThat means, you only need to return 3 sectors' information.\\n\""
      ]
     },
     "execution_count": 1,
     "metadata": {},
     "output_type": "execute_result"
    }
   ],
   "source": [
    "\"\"\"\n",
    "Modify the following google_sector_report so that it returns a json \n",
    "dump that contains the following information about each sector:\n",
    "1. The sector name\n",
    "2. The percentage change in sector value\n",
    "3. The biggest gainer and the percentage change in the biggest gainer\n",
    "4. The biggest loser and the percentage change in the biggest loser\n",
    "\n",
    "The structure of the json is given in the assignment description on EdX.\n",
    "\n",
    "Note:\n",
    "1. To read files, use:\n",
    "with open('filename') as f:\n",
    "    lines = f.readlines()\n",
    "2. The files needed can be seen in the Jupyter environment, so just use \n",
    "the four files to get your answer and DO NOT web scrape anything online.\n",
    "That means, you only need to return 3 sectors' information.\n",
    "\"\"\"\n",
    "\n",
    "# do not change anything that is originally written in here\n",
    "# write the solution in suggested area"
   ]
  },
  {
   "cell_type": "code",
   "execution_count": 2,
   "metadata": {
    "collapsed": true,
    "nbgrader": {
     "grade": false,
     "locked": true,
     "solution": false
    }
   },
   "outputs": [],
   "source": [
    "# Run this cell and do not change it\n",
    "with open('GoogleFinance.htm') as f:\n",
    "    file1 = f.readlines()"
   ]
  },
  {
   "cell_type": "code",
   "execution_count": 3,
   "metadata": {
    "collapsed": true
   },
   "outputs": [],
   "source": [
    "def google_sector_report(file1):\n",
    "    from bs4 import BeautifulSoup\n",
    "\n",
    "    file1 = \"\".join(file1)\n",
    "    ref_json = {}\n",
    "\n",
    "    parent = BeautifulSoup(file1, 'html.parser')\n",
    "    \n",
    "    sector_summary = parent.find('div', id='secperf')\n",
    "    sector_info = []\n",
    "    for l in sector_summary.find_all([\"a\", \"span\"], limit=6):\n",
    "        info = l.get_text()\n",
    "        if info[-1] == \"%\":\n",
    "            sector_info.append(float(info[:-1]))\n",
    "        else:\n",
    "            sector_info.append(info)\n",
    "\n",
    "    it = iter(sector_info)\n",
    "    tpls = list(zip(it, it))\n",
    "\n",
    "    name_dict = {a:{\"biggest_gainer\":{}, \"biggest_loser\":{}, \"change\":b} for a,b in tpls}\n",
    "\n",
    "    ref_json[\"results\"] = name_dict\n",
    "    \n",
    "    temp = {}\n",
    "\n",
    "    for key in ref_json['results'].keys():\n",
    "        name_str = key+\".htm\"\n",
    "        with open(name_str) as f:\n",
    "            page = \"\".join(f.readlines())\n",
    "        child = BeautifulSoup(page, 'html.parser')\n",
    "        c_table = child.find(\"table\", class_=\"topmovers\")\n",
    "        temp[key] = c_table  \n",
    "        \n",
    "    for k, v in temp.items():\n",
    "\n",
    "        wl_names = []\n",
    "        wl_changes = []\n",
    "\n",
    "        for item in v.find_all(\"a\", limit=20):\n",
    "                c_name = item.get_text()\n",
    "                if len(c_name) > 4:\n",
    "                    wl_names.append(c_name)\n",
    "\n",
    "        for item in v.find_all(\"span\", limit=20):\n",
    "                change = item.get_text()\n",
    "                if change[0] == \"(\":\n",
    "                    wl_changes.append(float(change[1:-2]))\n",
    "\n",
    "        tpls = list(zip(wl_names, wl_changes))\n",
    "        sorted_tpls = sorted(tpls, key=lambda x: x[1], reverse=True)\n",
    "\n",
    "        ref_json[\"results\"][k][\"biggest_gainer\"][\"equity\"] = sorted_tpls[0][0]\n",
    "        ref_json[\"results\"][k][\"biggest_gainer\"][\"change\"] = sorted_tpls[0][1]\n",
    "        ref_json[\"results\"][k][\"biggest_loser\"][\"equity\"] = sorted_tpls[-1][0]\n",
    "        ref_json[\"results\"][k][\"biggest_loser\"][\"change\"] = sorted_tpls[-1][1]\n",
    "\n",
    "\n",
    "    return ref_json"
   ]
  },
  {
   "cell_type": "code",
   "execution_count": 4,
   "metadata": {
    "collapsed": true,
    "nbgrader": {
     "grade": true,
     "grade_id": "sector names",
     "locked": true,
     "points": "25",
     "solution": false
    }
   },
   "outputs": [],
   "source": [
    "# Run this cell to get a grade!\n",
    "#\n",
    "# AUTOGRADER TEST - DO NOT REMOVE\n",
    "#\n"
   ]
  },
  {
   "cell_type": "code",
   "execution_count": 5,
   "metadata": {
    "collapsed": true,
    "nbgrader": {
     "grade": true,
     "grade_id": "sector changes",
     "locked": true,
     "points": "25",
     "solution": false
    }
   },
   "outputs": [],
   "source": [
    "# Run this cell to get a grade!\n",
    "#\n",
    "# AUTOGRADER TEST - DO NOT REMOVE\n",
    "#\n"
   ]
  },
  {
   "cell_type": "code",
   "execution_count": 6,
   "metadata": {
    "collapsed": true,
    "nbgrader": {
     "grade": true,
     "grade_id": "gainers",
     "locked": true,
     "points": "25",
     "solution": false
    },
    "scrolled": true
   },
   "outputs": [],
   "source": [
    "# Run this cell to get a grade!\n",
    "#\n",
    "# AUTOGRADER TEST - DO NOT REMOVE\n",
    "#\n"
   ]
  },
  {
   "cell_type": "code",
   "execution_count": 7,
   "metadata": {
    "collapsed": true,
    "nbgrader": {
     "grade": true,
     "grade_id": "losers",
     "locked": true,
     "points": "25",
     "solution": false
    }
   },
   "outputs": [],
   "source": [
    "# Run this cell to get a grade!\n",
    "#\n",
    "# AUTOGRADER TEST - DO NOT REMOVE\n",
    "#\n"
   ]
  },
  {
   "cell_type": "code",
   "execution_count": null,
   "metadata": {
    "collapsed": true
   },
   "outputs": [],
   "source": []
  }
 ],
 "metadata": {
  "kernelspec": {
   "display_name": "Python 3",
   "language": "python",
   "name": "python3"
  },
  "language_info": {
   "codemirror_mode": {
    "name": "ipython",
    "version": 3
   },
   "file_extension": ".py",
   "mimetype": "text/x-python",
   "name": "python",
   "nbconvert_exporter": "python",
   "pygments_lexer": "ipython3",
   "version": "3.5.2"
  }
 },
 "nbformat": 4,
 "nbformat_minor": 2
}
