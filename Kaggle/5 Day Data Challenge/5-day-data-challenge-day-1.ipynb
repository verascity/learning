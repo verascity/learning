{
  "cells": [
    {
      "metadata": {
        "_uuid": "334d57a9075443aa64de2c0375696e1e8e4698f4"
      },
      "cell_type": "markdown",
      "source": "**Day 1: Reading data into a kernel**\n\nWhat are we doing today? We will read (or import) data into a kernel and summarize it using Python. \n\nFirst, import any needed libraries."
    },
    {
      "metadata": {
        "_uuid": "8f2839f25d086af736a60e9eeb907d3b93b6e0e5",
        "_cell_guid": "b1076dfc-b9ad-4769-8c92-a6c4dae69d19",
        "trusted": true,
        "collapsed": true
      },
      "cell_type": "code",
      "source": "import pandas as pd",
      "execution_count": 2,
      "outputs": []
    },
    {
      "metadata": {
        "_uuid": "5ce5f2a6de125d4f28942baebdcee1a396674416"
      },
      "cell_type": "markdown",
      "source": "Read in the CSV."
    },
    {
      "metadata": {
        "_cell_guid": "79c7e3d0-c299-4dcb-8224-4455121ee9b0",
        "_uuid": "d629ff2d2480ee46fbb7e2d37f6b5fab8052498a",
        "trusted": true,
        "_kg_hide-input": false,
        "collapsed": true
      },
      "cell_type": "code",
      "source": "cereal_data = pd.read_csv(\"../input/cereal.csv\")",
      "execution_count": 3,
      "outputs": []
    },
    {
      "metadata": {
        "_uuid": "66225ac1400f100fa7ab3e3f15e73a0fc0a2a1b6"
      },
      "cell_type": "markdown",
      "source": "Check out the data's shape (rows by  columns), statistical attributes, and the first five rows to make sure it looks the way it probably should."
    },
    {
      "metadata": {
        "trusted": true,
        "_uuid": "ed871f81c6dc511c18b250a77ff9eb1334f38b6c"
      },
      "cell_type": "code",
      "source": "print(cereal_data.shape)\nprint(cereal_data.describe())\nprint(cereal_data.head())",
      "execution_count": 4,
      "outputs": [
        {
          "output_type": "stream",
          "text": "(77, 16)\n         calories    protein    ...           cups     rating\ncount   77.000000  77.000000    ...      77.000000  77.000000\nmean   106.883117   2.545455    ...       0.821039  42.665705\nstd     19.484119   1.094790    ...       0.232716  14.047289\nmin     50.000000   1.000000    ...       0.250000  18.042851\n25%    100.000000   2.000000    ...       0.670000  33.174094\n50%    110.000000   3.000000    ...       0.750000  40.400208\n75%    110.000000   3.000000    ...       1.000000  50.828392\nmax    160.000000   6.000000    ...       1.500000  93.704912\n\n[8 rows x 13 columns]\n                        name mfr type    ...      weight  cups     rating\n0                  100% Bran   N    C    ...         1.0  0.33  68.402973\n1          100% Natural Bran   Q    C    ...         1.0  1.00  33.983679\n2                   All-Bran   K    C    ...         1.0  0.33  59.425505\n3  All-Bran with Extra Fiber   K    C    ...         1.0  0.50  93.704912\n4             Almond Delight   R    C    ...         1.0  0.75  34.384843\n\n[5 rows x 16 columns]\n",
          "name": "stdout"
        }
      ]
    },
    {
      "metadata": {
        "trusted": true,
        "collapsed": true,
        "_uuid": "a38ae6974fd4923fcdd573c52f6734a1b98f3826"
      },
      "cell_type": "code",
      "source": "",
      "execution_count": null,
      "outputs": []
    }
  ],
  "metadata": {
    "kernelspec": {
      "display_name": "Python 3",
      "language": "python",
      "name": "python3"
    },
    "language_info": {
      "name": "python",
      "version": "3.6.5",
      "mimetype": "text/x-python",
      "codemirror_mode": {
        "name": "ipython",
        "version": 3
      },
      "pygments_lexer": "ipython3",
      "nbconvert_exporter": "python",
      "file_extension": ".py"
    }
  },
  "nbformat": 4,
  "nbformat_minor": 1
}