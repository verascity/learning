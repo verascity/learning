{
  "cells": [
    {
      "metadata": {
        "_uuid": "334d57a9075443aa64de2c0375696e1e8e4698f4"
      },
      "cell_type": "markdown",
      "source": "Setup code helpfully provided by Kaggle:"
    },
    {
      "metadata": {
        "_uuid": "8f2839f25d086af736a60e9eeb907d3b93b6e0e5",
        "_cell_guid": "b1076dfc-b9ad-4769-8c92-a6c4dae69d19",
        "trusted": true,
        "collapsed": true
      },
      "cell_type": "code",
      "source": "# This Python 3 environment comes with many helpful analytics libraries installed\n# It is defined by the kaggle/python docker image: https://github.com/kaggle/docker-python\n# For example, here's several helpful packages to load in \n\nimport numpy as np # linear algebra\nimport pandas as pd # data processing, CSV file I/O (e.g. pd.read_csv)\n\n# Input data files are available in the \"../input/\" directory.\n# For example, running this (by clicking run or pressing Shift+Enter) will list the files in the input directory\n\nimport os\nprint(os.listdir(\"../input\"))\n\n# Any results you write to the current directory are saved as output.",
      "execution_count": 17,
      "outputs": []
    },
    {
      "metadata": {
        "_uuid": "5ce5f2a6de125d4f28942baebdcee1a396674416"
      },
      "cell_type": "markdown",
      "source": "Read in the CSV."
    },
    {
      "metadata": {
        "_cell_guid": "79c7e3d0-c299-4dcb-8224-4455121ee9b0",
        "_uuid": "d629ff2d2480ee46fbb7e2d37f6b5fab8052498a",
        "trusted": true,
        "_kg_hide-input": false,
        "collapsed": true
      },
      "cell_type": "code",
      "source": "cereal_data = pd.read_csv(\"../input/cereal.csv\")",
      "execution_count": 19,
      "outputs": []
    },
    {
      "metadata": {
        "_uuid": "66225ac1400f100fa7ab3e3f15e73a0fc0a2a1b6"
      },
      "cell_type": "markdown",
      "source": "Check out the data's shape (rows by  columns), statistical attributes, and the first five rows to make sure it looks the way it probably should."
    },
    {
      "metadata": {
        "trusted": true,
        "collapsed": true,
        "_uuid": "ed871f81c6dc511c18b250a77ff9eb1334f38b6c"
      },
      "cell_type": "code",
      "source": "print(cereal_data.shape)\nprint(cereal_data.describe())\nprint(cereal_data.head())",
      "execution_count": null,
      "outputs": []
    }
  ],
  "metadata": {
    "kernelspec": {
      "display_name": "Python 3",
      "language": "python",
      "name": "python3"
    },
    "language_info": {
      "name": "python",
      "version": "3.6.5",
      "mimetype": "text/x-python",
      "codemirror_mode": {
        "name": "ipython",
        "version": 3
      },
      "pygments_lexer": "ipython3",
      "nbconvert_exporter": "python",
      "file_extension": ".py"
    }
  },
  "nbformat": 4,
  "nbformat_minor": 1
}