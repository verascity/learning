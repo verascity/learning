{
  "cells": [
    {
      "metadata": {
        "_uuid": "8f2839f25d086af736a60e9eeb907d3b93b6e0e5",
        "_cell_guid": "b1076dfc-b9ad-4769-8c92-a6c4dae69d19",
        "trusted": true
      },
      "cell_type": "markdown",
      "source": "**Day 2: Plot a Numeric Variable with a Histogram**\n\nWhat are we doing today?\nToday we’re going to be plotting a numeric variable using a histogram. \n\nFirst, import all needed libraries and read the dataset into a dataframe."
    },
    {
      "metadata": {
        "_cell_guid": "79c7e3d0-c299-4dcb-8224-4455121ee9b0",
        "_uuid": "d629ff2d2480ee46fbb7e2d37f6b5fab8052498a",
        "trusted": true,
        "scrolled": true
      },
      "cell_type": "code",
      "source": "import pandas as pd\nimport matplotlib.pyplot as plt\ncereal_data = pd.read_csv(\"../input/cereal.csv\")",
      "execution_count": 49,
      "outputs": []
    },
    {
      "metadata": {
        "_uuid": "bbd2a2547e665642232a0e9b15a3b2b1225f5312"
      },
      "cell_type": "markdown",
      "source": "Now, we can print out the info (column names and data types) to help us understand what our data is."
    },
    {
      "metadata": {
        "trusted": true,
        "_uuid": "93b3bc38f05aaa3da5a9929c61d5df76207018da"
      },
      "cell_type": "code",
      "source": "print(cereal_data.info())",
      "execution_count": 50,
      "outputs": [
        {
          "output_type": "stream",
          "text": "<class 'pandas.core.frame.DataFrame'>\nRangeIndex: 77 entries, 0 to 76\nData columns (total 16 columns):\nname        77 non-null object\nmfr         77 non-null object\ntype        77 non-null object\ncalories    77 non-null int64\nprotein     77 non-null int64\nfat         77 non-null int64\nsodium      77 non-null int64\nfiber       77 non-null float64\ncarbo       77 non-null float64\nsugars      77 non-null int64\npotass      77 non-null int64\nvitamins    77 non-null int64\nshelf       77 non-null int64\nweight      77 non-null float64\ncups        77 non-null float64\nrating      77 non-null float64\ndtypes: float64(5), int64(8), object(3)\nmemory usage: 9.7+ KB\nNone\n",
          "name": "stdout"
        }
      ]
    },
    {
      "metadata": {
        "_uuid": "4ea8055b5506881db815aba7c82d57af6113e55d"
      },
      "cell_type": "markdown",
      "source": "We have several columns containing integers or floats that we could use to build a histogram. Exploring the sugar content could be interesting. \n\nLet's print out the names and sugar columns just so we can see what we're looking at."
    },
    {
      "metadata": {
        "trusted": true,
        "scrolled": true,
        "_uuid": "f65dfd25c24e8b602903a3c023d659b6a0d4f8b8"
      },
      "cell_type": "code",
      "source": "print(cereal_data[[\"name\", \"sugars\"]])",
      "execution_count": 51,
      "outputs": [
        {
          "output_type": "stream",
          "text": "                                      name  sugars\n0                                100% Bran       6\n1                        100% Natural Bran       8\n2                                 All-Bran       5\n3                All-Bran with Extra Fiber       0\n4                           Almond Delight       8\n5                  Apple Cinnamon Cheerios      10\n6                              Apple Jacks      14\n7                                  Basic 4       8\n8                                Bran Chex       6\n9                              Bran Flakes       5\n10                            Cap'n'Crunch      12\n11                                Cheerios       1\n12                   Cinnamon Toast Crunch       9\n13                                Clusters       7\n14                             Cocoa Puffs      13\n15                               Corn Chex       3\n16                             Corn Flakes       2\n17                               Corn Pops      12\n18                           Count Chocula      13\n19                      Cracklin' Oat Bran       7\n20                  Cream of Wheat (Quick)       0\n21                                 Crispix       3\n22                  Crispy Wheat & Raisins      10\n23                             Double Chex       5\n24                             Froot Loops      13\n25                          Frosted Flakes      11\n26                     Frosted Mini-Wheats       7\n27  Fruit & Fibre Dates; Walnuts; and Oats      10\n28                           Fruitful Bran      12\n29                          Fruity Pebbles      12\n..                                     ...     ...\n47                    Multi-Grain Cheerios       6\n48                        Nut&Honey Crunch       9\n49               Nutri-Grain Almond-Raisin       7\n50                       Nutri-grain Wheat       2\n51                    Oatmeal Raisin Crisp      10\n52                   Post Nat. Raisin Bran      14\n53                              Product 19       3\n54                             Puffed Rice       0\n55                            Puffed Wheat       0\n56                      Quaker Oat Squares       6\n57                          Quaker Oatmeal      -1\n58                             Raisin Bran      12\n59                         Raisin Nut Bran       8\n60                          Raisin Squares       6\n61                               Rice Chex       2\n62                           Rice Krispies       3\n63                          Shredded Wheat       0\n64                  Shredded Wheat 'n'Bran       0\n65               Shredded Wheat spoon size       0\n66                                  Smacks      15\n67                               Special K       3\n68                 Strawberry Fruit Wheats       5\n69                       Total Corn Flakes       3\n70                       Total Raisin Bran      14\n71                       Total Whole Grain       3\n72                                 Triples       3\n73                                    Trix      12\n74                              Wheat Chex       3\n75                                Wheaties       3\n76                     Wheaties Honey Gold       8\n\n[77 rows x 2 columns]\n",
          "name": "stdout"
        }
      ]
    },
    {
      "metadata": {
        "_uuid": "83b7998f31f67dcb20504265b1ab0089161bbcd3"
      },
      "cell_type": "markdown",
      "source": "It looks like there's a lot of variety. Very interesting! Let's try plotting it out. We'll set a range of 0-max, since for some reason Quaker Oatmeal claims to have -1 sugars(!). "
    },
    {
      "metadata": {
        "trusted": true,
        "scrolled": false,
        "_uuid": "42816d8bcaa27c102df3a1579368c64b86dcba34"
      },
      "cell_type": "code",
      "source": "plt.hist(cereal_data[\"sugars\"], range=(0, 15))",
      "execution_count": 52,
      "outputs": [
        {
          "output_type": "execute_result",
          "execution_count": 52,
          "data": {
            "text/plain": "(array([  8.,   3.,  14.,   5.,  11.,   5.,   9.,   5.,  11.,   5.]),\n array([  0. ,   1.5,   3. ,   4.5,   6. ,   7.5,   9. ,  10.5,  12. ,\n         13.5,  15. ]),\n <a list of 10 Patch objects>)"
          },
          "metadata": {}
        },
        {
          "output_type": "display_data",
          "data": {
            "text/plain": "<matplotlib.figure.Figure at 0x7f6a981d8be0>",
            "image/png": "[encoded data removed]"
          },
          "metadata": {}
        }
      ]
    },
    {
      "metadata": {
        "_uuid": "a0a40d5f271a2d34c38c7f39dcc4a0bcac482858"
      },
      "cell_type": "markdown",
      "source": "We need more information. Let's add a title and some labels. We can make the histogram a little prettier while we're at it. Let's raise the number of bins to get a little more granular with our data and add some edges."
    },
    {
      "metadata": {
        "trusted": true,
        "_uuid": "08a248af60df8cf4ad54a30dae7f4bbfaafc932b"
      },
      "cell_type": "code",
      "source": "plt.hist(cereal_data[\"sugars\"], bins=12, range=(0, 15), edgecolor=\"black\")\nplt.title(\"Sugar Content of Popular Cereals\")\nplt.xlabel(\"Sugar in grams (per serving)\")\nplt.ylabel(\"Count\")",
      "execution_count": 55,
      "outputs": [
        {
          "output_type": "execute_result",
          "execution_count": 55,
          "data": {
            "text/plain": "Text(0,0.5,'Count')"
          },
          "metadata": {}
        },
        {
          "output_type": "display_data",
          "data": {
            "text/plain": "<matplotlib.figure.Figure at 0x7f6a98009630>",
            "image/png": "[encoded data removed]"
          },
          "metadata": {}
        }
      ]
    },
    {
      "metadata": {
        "trusted": true,
        "collapsed": true,
        "_uuid": "268433a5c0bdf51e57a226d1f0f481df28dd7de0"
      },
      "cell_type": "markdown",
      "source": "That looks much more informative, even if there doesn't appear to be any real pattern behind sugar contents. I'm glad none are above 15g, at least!"
    }
  ],
  "metadata": {
    "kernelspec": {
      "display_name": "Python 3",
      "language": "python",
      "name": "python3"
    },
    "language_info": {
      "name": "python",
      "version": "3.6.5",
      "mimetype": "text/x-python",
      "codemirror_mode": {
        "name": "ipython",
        "version": 3
      },
      "pygments_lexer": "ipython3",
      "nbconvert_exporter": "python",
      "file_extension": ".py"
    }
  },
  "nbformat": 4,
  "nbformat_minor": 1
}