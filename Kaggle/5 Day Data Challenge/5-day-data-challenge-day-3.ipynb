{
  "cells": [
    {
      "metadata": {
        "_uuid": "a2a8923f7a1287df1f8feac71c622682e02d1b71"
      },
      "cell_type": "markdown",
      "source": "Day 3: Perform a t-test\n\nWhat are we doing today? Today, we’re going to use a t-test to explore the relationship between two groups that share one numerical measure.\n\nFirst, we import our libraries and read in our data."
    },
    {
      "metadata": {
        "_uuid": "8f2839f25d086af736a60e9eeb907d3b93b6e0e5",
        "_cell_guid": "b1076dfc-b9ad-4769-8c92-a6c4dae69d19",
        "trusted": true,
        "collapsed": true
      },
      "cell_type": "code",
      "source": "import numpy as np\nimport pandas as pd #Pandas will help us read in our dataframe and look at our data before we run the test.\nfrom scipy.stats import ttest_ind #Ttest_ind is a function of scipy that will produce a t-test.\nimport matplotlib.pyplot as plt #Pyplot will help us generate histograms of our variable groups.\n\ncereal_data = pd.read_csv(\"../input/cereal.csv\")",
      "execution_count": 41,
      "outputs": []
    },
    {
      "metadata": {
        "_cell_guid": "79c7e3d0-c299-4dcb-8224-4455121ee9b0",
        "collapsed": true,
        "_uuid": "d629ff2d2480ee46fbb7e2d37f6b5fab8052498a",
        "trusted": false
      },
      "cell_type": "markdown",
      "source": "Let's use Pandas to see our column names."
    },
    {
      "metadata": {
        "trusted": true,
        "_uuid": "ce531a835bf25a5f5771756c618dd7d4d9e2b4c5"
      },
      "cell_type": "code",
      "source": "print(list(cereal_data))",
      "execution_count": 4,
      "outputs": [
        {
          "output_type": "stream",
          "text": "['name', 'mfr', 'type', 'calories', 'protein', 'fat', 'sodium', 'fiber', 'carbo', 'sugars', 'potass', 'vitamins', 'shelf', 'weight', 'cups', 'rating']\n",
          "name": "stdout"
        }
      ]
    },
    {
      "metadata": {
        "_uuid": "bb60466da555b04bb85e7ac2577cb6aae7dcfc8d"
      },
      "cell_type": "markdown",
      "source": "We worked with sugars yesterday, so let's work with those again.  What if sugar contents vary by brand? The second column, \"mfr,\" contains a single character that represents the manufacturer (A = American Home Food Products; G = General Mills; K = Kelloggs; N = Nabisco; P = Post; Q = Quaker Oats; R = Ralston Purina). \n\nRunning the Pandas method value_counts on that column..."
    },
    {
      "metadata": {
        "trusted": true,
        "_uuid": "c6e68089b890c7d0036b054f4a3668693d68bbfd"
      },
      "cell_type": "code",
      "source": "print(cereal_data[\"mfr\"].value_counts())",
      "execution_count": 26,
      "outputs": [
        {
          "output_type": "stream",
          "text": "K    23\nG    22\nP     9\nR     8\nQ     8\nN     6\nA     1\nName: mfr, dtype: int64\n",
          "name": "stdout"
        }
      ]
    },
    {
      "metadata": {
        "_uuid": "635be924482f9fcbfa22b1d7d5880066e9272f61"
      },
      "cell_type": "markdown",
      "source": "We see that Kelloggs and General Mills have the two biggest samples in the dataset. Let's compare them!\n\nWe use Pandas slicing and .loc to pull out the \"sugars\" column data for the rows where \"mfr\" is \"K\" or \"G,\" respectively."
    },
    {
      "metadata": {
        "trusted": true,
        "_uuid": "70086f1bd614d6bace8cc436832d69a7ad5f86b5"
      },
      "cell_type": "code",
      "source": "kelloggs = cereal_data.loc[cereal_data[\"mfr\"] == \"K\", \"sugars\"]\ngm = cereal_data.loc[cereal_data[\"mfr\"] == \"G\", \"sugars\"]",
      "execution_count": 50,
      "outputs": []
    },
    {
      "metadata": {
        "_uuid": "027f35c3227010e477b82156ff3d2b2677278830"
      },
      "cell_type": "markdown",
      "source": "We can now pass those two columns, which are Series, or array-like objects, into ttest_ind(). "
    },
    {
      "metadata": {
        "trusted": true,
        "_uuid": "1e7fc8a393f9db2fdfc6d7779a314cc0872a53bf"
      },
      "cell_type": "code",
      "source": "ttest_ind(kelloggs, gm, equal_var=False)",
      "execution_count": 51,
      "outputs": [
        {
          "output_type": "execute_result",
          "execution_count": 51,
          "data": {
            "text/plain": "Ttest_indResult(statistic=-0.31146690416057321, pvalue=0.75696709235229653)"
          },
          "metadata": {}
        }
      ]
    },
    {
      "metadata": {
        "_uuid": "a46116ee83eac146fd875531eb5b7d2a40a85fd9"
      },
      "cell_type": "markdown",
      "source": "This returned two things: a T-statistic of -0.31, and a p-value of 0.76 (rounded). What that means is that there wasn't much difference between the two samples mathematically (the T-statistic), and that there's a pretty low probability of them actually being very different in real life.  So it looks like Kellogg's and General Mills are about the same in terms of sugar content.\n\nLet's plot some histograms and see!"
    },
    {
      "metadata": {
        "trusted": true,
        "_uuid": "6691f447f1331a220e5a44030eaca631203db76b"
      },
      "cell_type": "code",
      "source": "plt.subplot(121) #This tells Pyplot that our plot figure will have one row and two columns of plots and that this is the first plot.\nplt.hist(kelloggs)\nplt.title(\"Sugar Content of Kelloggs\")\nplt.xlabel(\"Sugar Content in Grams\")\n\nplt.subplot(122) #This tells Pyplot that this is the second plot. \nplt.hist(gm)\nplt.title(\"Sugar Content of General Mills\")\nplt.xlabel(\"Sugar Content in Grams\")\n\nplt.show()",
      "execution_count": 57,
      "outputs": [
        {
          "output_type": "display_data",
          "data": {
            "text/plain": "<matplotlib.figure.Figure at 0x7fdea668cb38>",
            "image/png": "[encoded data removed]"
          },
          "metadata": {}
        }
      ]
    },
    {
      "metadata": {
        "_uuid": "ecf3c646fed43e9d5e8b481ec4e877ffc24dd448"
      },
      "cell_type": "markdown",
      "source": "It looks like the t-test was right: this looks pretty random, and pretty similarly so."
    }
  ],
  "metadata": {
    "kernelspec": {
      "display_name": "Python 3",
      "language": "python",
      "name": "python3"
    },
    "language_info": {
      "name": "python",
      "version": "3.6.5",
      "mimetype": "text/x-python",
      "codemirror_mode": {
        "name": "ipython",
        "version": 3
      },
      "pygments_lexer": "ipython3",
      "nbconvert_exporter": "python",
      "file_extension": ".py"
    }
  },
  "nbformat": 4,
  "nbformat_minor": 1
}