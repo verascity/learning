{
  "cells": [
    {
      "metadata": {
        "_uuid": "a7294d46ab8d6ec733195ec6b93019d7b9af3024"
      },
      "cell_type": "markdown",
      "source": "**Day 4: Visualize categorical data with a bar chart**\n\nWhat are we doing today? Today, we are looking at categorical data with a bar chart. We will explore the Aircraft Wildlife Strikes database."
    },
    {
      "metadata": {
        "_uuid": "8f2839f25d086af736a60e9eeb907d3b93b6e0e5",
        "_cell_guid": "b1076dfc-b9ad-4769-8c92-a6c4dae69d19",
        "trusted": true
      },
      "cell_type": "code",
      "source": "import pandas as pd\nimport matplotlib.pyplot as plt\nimport seaborn as sns\n\ndata = pd.read_csv(\"../input/database.csv\")",
      "execution_count": 40,
      "outputs": [
        {
          "output_type": "stream",
          "text": "/opt/conda/lib/python3.6/site-packages/IPython/core/interactiveshell.py:2698: DtypeWarning: Columns (9,12,15,17) have mixed types. Specify dtype option on import or set low_memory=False.\n  interactivity=interactivity, compiler=compiler, result=result)\n",
          "name": "stderr"
        }
      ]
    },
    {
      "metadata": {
        "_cell_guid": "79c7e3d0-c299-4dcb-8224-4455121ee9b0",
        "collapsed": true,
        "_uuid": "d629ff2d2480ee46fbb7e2d37f6b5fab8052498a",
        "trusted": false
      },
      "cell_type": "markdown",
      "source": "That error looks a little scary, but it just means that there are some columns where the data types are mixed, which Pandas doesn't like. We could rewrite the read_csv command to either nix the warning or omit those columns, but let's ignore it for now and see what our columns actually are."
    },
    {
      "metadata": {
        "trusted": true,
        "_uuid": "b6273aecc5a4e270b2db91f2ad8c02d232066aff"
      },
      "cell_type": "code",
      "source": "print(list(data))",
      "execution_count": 4,
      "outputs": [
        {
          "output_type": "stream",
          "text": "['Record ID', 'Incident Year', 'Incident Month', 'Incident Day', 'Operator ID', 'Operator', 'Aircraft', 'Aircraft Type', 'Aircraft Make', 'Aircraft Model', 'Aircraft Mass', 'Engine Make', 'Engine Model', 'Engines', 'Engine Type', 'Engine1 Position', 'Engine2 Position', 'Engine3 Position', 'Engine4 Position', 'Airport ID', 'Airport', 'State', 'FAA Region', 'Warning Issued', 'Flight Phase', 'Visibility', 'Precipitation', 'Height', 'Speed', 'Distance', 'Species ID', 'Species Name', 'Species Quantity', 'Flight Impact', 'Fatalities', 'Injuries', 'Aircraft Damage', 'Radome Strike', 'Radome Damage', 'Windshield Strike', 'Windshield Damage', 'Nose Strike', 'Nose Damage', 'Engine1 Strike', 'Engine1 Damage', 'Engine2 Strike', 'Engine2 Damage', 'Engine3 Strike', 'Engine3 Damage', 'Engine4 Strike', 'Engine4 Damage', 'Engine Ingested', 'Propeller Strike', 'Propeller Damage', 'Wing or Rotor Strike', 'Wing or Rotor Damage', 'Fuselage Strike', 'Fuselage Damage', 'Landing Gear Strike', 'Landing Gear Damage', 'Tail Strike', 'Tail Damage', 'Lights Strike', 'Lights Damage', 'Other Strike', 'Other Damage']\n",
          "name": "stdout"
        }
      ]
    },
    {
      "metadata": {
        "_uuid": "422ca78667434d9ae1ac05861dc943e08e536a95"
      },
      "cell_type": "markdown",
      "source": "The columns with mixed data types are \"Aircraft Model,\"  \"Engine Model,\" \"Engine1 Position,\" and \"Engine3 Position.\" If we were going to work with those columns, I would investigate further, but we're not. \n\nInstead, let's pull out the column we *are* going to use: \"Species Name,\" and take a look at the values and counts in that column."
    },
    {
      "metadata": {
        "trusted": true,
        "scrolled": true,
        "_uuid": "e45d57a70969f0e473ce250c100c4c4f5d700f42"
      },
      "cell_type": "code",
      "source": "species = data[\"Species Name\"]\nprint(species.value_counts())",
      "execution_count": 30,
      "outputs": [
        {
          "output_type": "stream",
          "text": "UNKNOWN MEDIUM BIRD          38531\nUNKNOWN SMALL BIRD           32981\nMOURNING DOVE                 7653\nGULL                          6580\nUNKNOWN BIRD                  6400\nKILLDEER                      4562\nAMERICAN KESTREL              4476\nBARN SWALLOW                  4215\nHORNED LARK                   3952\nEUROPEAN STARLING             3915\nSPARROW                       3152\nROCK PIGEON                   2893\nUNKNOWN LARGE BIRD            2789\nRED-TAILED HAWK               2254\nEASTERN MEADOWLARK            1829\nCANADA GOOSE                  1574\nRING-BILLED GULL              1531\nCLIFF SWALLOW                 1485\nHAWK                          1313\nBLACKBIRD                     1281\nHERRING GULL                  1199\nBARN OWL                      1118\nWESTERN MEADOWLARK            1072\nSWALLOW                       1053\nDOVE                          1041\nWHITE-TAILED DEER             1021\nAMERICAN ROBIN                 957\nPACIFIC GOLDEN-PLOVER          909\nMALLARD                        877\nPERCHING BIRDS                 867\n                             ...  \nDOUBLE-STRIPED THICK-KNEE        1\nNORTHERN HAWK-OWL                1\nROSEATE TERN                     1\nNORTHERN FULMAR                  1\nRED-LEGGED KITTIWAKE             1\nCASSIN'S FINCH                   1\nEURASIAN WIGEON                  1\nNORTHERN LAPWING                 1\nSOUTHERN LAPWING                 1\nALLIGATOR SNAPPING TURTLE        1\nRED-FOOTED BOOBY                 1\nHEERMANN'S GULL                  1\nPINE GROSBEAK                    1\nGRAY SAC-WINGED BAT              1\nLITTLE OWL                       1\nPICAZURO PIGEON                  1\nNORTHERN SHRIKE                  1\nINTERMEDIATE EGRET               1\nGREATER ROADRUNNER               1\nHERMIT WARBLER                   1\nALLEN'S HUMMINGBIRD              1\nCOMMON CUCKOO                    1\nRED-HEADED WOODPECKER            1\nCRANES                           1\nHARLEQUIN DUCK                   1\nLONG-LEGGED MYOTIS               1\nSHEARWATERS                      1\nWHITE STORK                      1\nWHITE-WINGED CROSSBILL           1\nTRICOLORED BLACKBIRD             1\nName: Species Name, Length: 715, dtype: int64\n",
          "name": "stdout"
        }
      ]
    },
    {
      "metadata": {
        "_uuid": "cd8a7421ae65c78ec62a3cf112f59511582ab607"
      },
      "cell_type": "markdown",
      "source": "A few things are clear: three of the five highest counts belong to some variation of \"unknown\" (and a fourth, \"unknown large bird,\" appears not much further down); and there are many, many very specific species that only have a count of 1. \n\nFor the sake of making a nice and informative bar graph, we're going to chop this up a little. Let's look at only the top five known species. "
    },
    {
      "metadata": {
        "trusted": true,
        "_uuid": "fd6d10a3d6d803d96fe3c6060a6a7723161e7304"
      },
      "cell_type": "code",
      "source": "top_five = [\"MOURNING DOVE\", \"GULL\", \"KILLDEER\", \"AMERICAN KESTREL\", \"BARN SWALLOW\"] #Our top known five, based on the list above. \ntop_five_species = species[species.isin(top_five)] #isin() returns a Boolean array, which we check our original Series (species) against to create a new Series.\nprint(top_five_species.value_counts()) #The new column has the same values and counts as the top five known species in the old column.",
      "execution_count": 37,
      "outputs": [
        {
          "output_type": "stream",
          "text": "MOURNING DOVE       7653\nGULL                6580\nKILLDEER            4562\nAMERICAN KESTREL    4476\nBARN SWALLOW        4215\nName: Species Name, dtype: int64\n",
          "name": "stdout"
        }
      ]
    },
    {
      "metadata": {
        "_uuid": "ddbd18c9803bfaeeb0eca1ce5254096a8ae803a2"
      },
      "cell_type": "markdown",
      "source": "Let's try a count plot!"
    },
    {
      "metadata": {
        "trusted": true,
        "_uuid": "9ff996f18f97ebd6e511e9624e7bba0dc8959d1f"
      },
      "cell_type": "code",
      "source": "species_count = sns.countplot(top_five_species) #A countplot() is a type of bar plot specifically for value counts.\nplt.title(\"Top Five Known Species That Impact with Aircraft\") #That's kind of a morbid title, isn't it?\nplt.xticks(rotation='vertical') #This rotates our x-axis labels so they don't smush together. ",
      "execution_count": 42,
      "outputs": [
        {
          "output_type": "execute_result",
          "execution_count": 42,
          "data": {
            "text/plain": "(array([0, 1, 2, 3, 4]), <a list of 5 Text xticklabel objects>)"
          },
          "metadata": {}
        },
        {
          "output_type": "display_data",
          "data": {
            "text/plain": "<matplotlib.figure.Figure at 0x7f4124026588>",
            "image/png": "[encoded data removed]"
          },
          "metadata": {}
        }
      ]
    },
    {
      "metadata": {
        "trusted": true,
        "collapsed": true,
        "_uuid": "be4661e57cfb4c6c370a20f5f2c17c5882db8e28"
      },
      "cell_type": "code",
      "source": "",
      "execution_count": null,
      "outputs": []
    }
  ],
  "metadata": {
    "kernelspec": {
      "display_name": "Python 3",
      "language": "python",
      "name": "python3"
    },
    "language_info": {
      "name": "python",
      "version": "3.6.5",
      "mimetype": "text/x-python",
      "codemirror_mode": {
        "name": "ipython",
        "version": 3
      },
      "pygments_lexer": "ipython3",
      "nbconvert_exporter": "python",
      "file_extension": ".py"
    }
  },
  "nbformat": 4,
  "nbformat_minor": 1
}