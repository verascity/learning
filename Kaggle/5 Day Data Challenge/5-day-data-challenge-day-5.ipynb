{
  "cells": [
    {
      "metadata": {
        "_uuid": "d023ffb1a5954b91be877900f7306549fad63658"
      },
      "cell_type": "markdown",
      "source": "**Day 5: Using a Chi-Square Test**\n\nWhat are we doing today? Today, we are running a chi-square test to determine the relationship between two categorical variables. We'll use the Aircraft Wildlife Strikes database again.\n\nFirst, we import our libraries and read in our dataset."
    },
    {
      "metadata": {
        "_uuid": "8f2839f25d086af736a60e9eeb907d3b93b6e0e5",
        "_cell_guid": "b1076dfc-b9ad-4769-8c92-a6c4dae69d19",
        "trusted": true
      },
      "cell_type": "code",
      "source": "import pandas as pd\nimport scipy.stats #to run our chi-square test\n\ndata = pd.read_csv(\"../input/database.csv\", low_memory=False) #To prevent the mixed data-type warning we experienced yesterday, we set low_memory to False.",
      "execution_count": 91,
      "outputs": []
    },
    {
      "metadata": {
        "_cell_guid": "79c7e3d0-c299-4dcb-8224-4455121ee9b0",
        "collapsed": true,
        "_uuid": "d629ff2d2480ee46fbb7e2d37f6b5fab8052498a",
        "trusted": false
      },
      "cell_type": "markdown",
      "source": "Let's remember what our column names are."
    },
    {
      "metadata": {
        "trusted": true,
        "scrolled": true,
        "_uuid": "a77d800669231197a370c2010e5aea2efe52a130"
      },
      "cell_type": "code",
      "source": "print(list(data))",
      "execution_count": 17,
      "outputs": [
        {
          "output_type": "stream",
          "text": "['Record ID', 'Incident Year', 'Incident Month', 'Incident Day', 'Operator ID', 'Operator', 'Aircraft', 'Aircraft Type', 'Aircraft Make', 'Aircraft Model', 'Aircraft Mass', 'Engine Make', 'Engine Model', 'Engines', 'Engine Type', 'Engine1 Position', 'Engine2 Position', 'Engine3 Position', 'Engine4 Position', 'Airport ID', 'Airport', 'State', 'FAA Region', 'Warning Issued', 'Flight Phase', 'Visibility', 'Precipitation', 'Height', 'Speed', 'Distance', 'Species ID', 'Species Name', 'Species Quantity', 'Flight Impact', 'Fatalities', 'Injuries', 'Aircraft Damage', 'Radome Strike', 'Radome Damage', 'Windshield Strike', 'Windshield Damage', 'Nose Strike', 'Nose Damage', 'Engine1 Strike', 'Engine1 Damage', 'Engine2 Strike', 'Engine2 Damage', 'Engine3 Strike', 'Engine3 Damage', 'Engine4 Strike', 'Engine4 Damage', 'Engine Ingested', 'Propeller Strike', 'Propeller Damage', 'Wing or Rotor Strike', 'Wing or Rotor Damage', 'Fuselage Strike', 'Fuselage Damage', 'Landing Gear Strike', 'Landing Gear Damage', 'Tail Strike', 'Tail Damage', 'Lights Strike', 'Lights Damage', 'Other Strike', 'Other Damage']\n",
          "name": "stdout"
        }
      ]
    },
    {
      "metadata": {
        "_uuid": "2b70ff09468c050c24047e9bc95e0526c9a31cf6"
      },
      "cell_type": "markdown",
      "source": "A chi-square test explores the possibility of interrelatedness between two variables, i.e., are they independent or connected? Let's take our top five bird species from yesterday and see if species of bird is related to time of day (represented by \"Visibility\" in the dataset). In other words, are some birds more drawn to airplanes at different times?"
    },
    {
      "metadata": {
        "trusted": true,
        "_uuid": "bdefdb2c771dc5d466551a4a42b26ad96daa742d"
      },
      "cell_type": "code",
      "source": "top_five = [\"MOURNING DOVE\", \"GULL\", \"KILLDEER\", \"AMERICAN KESTREL\", \"BARN SWALLOW\"] #Our top known five, based on the list above. \nviz = [\"DAWN\", \"DAY\", \"DUSK\", \"NIGHT\"]\n\nspecies = data[\"Species Name\"].loc[data[\"Species Name\"].isin(top_five)] #isin() returns a Boolean array, which we check our original Series (species) against to create a new Series.\nvisibility = data[\"Visibility\"].loc[data[\"Visibility\"].isin(viz)] #Ditto here",
      "execution_count": 86,
      "outputs": []
    },
    {
      "metadata": {
        "_uuid": "1b3a1f225ae4107c3c0de45e1734dea1426cbf8f"
      },
      "cell_type": "markdown",
      "source": "We need to put these into a new table so that Scipy can run the chi-square test. We'll use Pandas to create a contingency table."
    },
    {
      "metadata": {
        "trusted": true,
        "_uuid": "1e80fcd3216ea2e49dfaddfefbb6f754e959895e"
      },
      "cell_type": "code",
      "source": "ctable = pd.crosstab(species, visibility)\nprint(ctable)",
      "execution_count": 94,
      "outputs": [
        {
          "output_type": "stream",
          "text": "Visibility        DAWN   DAY  DUSK  NIGHT\nSpecies Name                             \nAMERICAN KESTREL    22  1208    44     37\nBARN SWALLOW        20  1953    60     43\nGULL               271  4324   247    851\nKILLDEER            54  1024    91    328\nMOURNING DOVE      218  2165   270    264\n",
          "name": "stdout"
        }
      ]
    },
    {
      "metadata": {
        "_uuid": "83abe2ed419a7e87596e3c5e7fb1304dccc85981"
      },
      "cell_type": "markdown",
      "source": "Cool. Now we can run our test."
    },
    {
      "metadata": {
        "trusted": true,
        "_uuid": "c14e59923385c732844d2ad326bc355baea3581a"
      },
      "cell_type": "code",
      "source": "chi2, p, dof, expected = scipy.stats.chi2_contingency(ctable, correction=False)\nprint(\"Chi-Statistic: {}; P-Value: {}; DOF: {}\\nExpected values: {}\".format(chi2, p, dof, expected))",
      "execution_count": 88,
      "outputs": [
        {
          "output_type": "stream",
          "text": "Chi-Statistic: 870.9884177186375; P-Value: 9.727523191472948e-179; DOF: 12\nExpected values: [[   56.83526012  1037.02489996    69.17385505   147.96598488]\n [   90.          1642.15384615   109.53846154   234.30769231]\n [  246.80635838  4503.26678524   300.38654217   642.54031421]\n [   64.89884393  1184.1542908     78.98799466   168.95887061]\n [  126.45953757  2307.40017786   153.91314658   329.22713799]]\n",
          "name": "stdout"
        }
      ]
    },
    {
      "metadata": {
        "_uuid": "bebbb6d39b6be54157d4d07962dd0fce78ec797f"
      },
      "cell_type": "markdown",
      "source": "Our chi-square test indicates that our variables, species and time of day, are probably related! \n\nWe can represent this difference in a few ways. Let's throw together a stacked bar chart with Pandas."
    },
    {
      "metadata": {
        "trusted": true,
        "_uuid": "3d2a177a059b300ca012fcaa7f4e54f93e8dad09"
      },
      "cell_type": "code",
      "source": "ctable.plot.barh(stacked=True, colormap=\"Dark2\") #The default colors weren't colorblind-friendly; I chose a more accessible colormap. ",
      "execution_count": 117,
      "outputs": [
        {
          "output_type": "execute_result",
          "execution_count": 117,
          "data": {
            "text/plain": "<matplotlib.axes._subplots.AxesSubplot at 0x7f1c11c125c0>"
          },
          "metadata": {}
        },
        {
          "output_type": "display_data",
          "data": {
            "text/plain": "<matplotlib.figure.Figure at 0x7f1c11b54e80>",
            "image/png": "[encoded data removed]"
          },
          "metadata": {}
        }
      ]
    },
    {
      "metadata": {
        "_uuid": "048d966aa36679e3048b20e28f58bed8dffbc98d"
      },
      "cell_type": "markdown",
      "source": "We can see by looking at the bar chart that even taking other differences into account, mourning doves and gulls are more likely to appear at dawn, and those and killdeer are more likely to appear at dusk and night. Barn swallows and kestrels really only show up during the day, which might be why they feature in fewer strikes overall. "
    }
  ],
  "metadata": {
    "kernelspec": {
      "display_name": "Python 3",
      "language": "python",
      "name": "python3"
    },
    "language_info": {
      "name": "python",
      "version": "3.6.5",
      "mimetype": "text/x-python",
      "codemirror_mode": {
        "name": "ipython",
        "version": 3
      },
      "pygments_lexer": "ipython3",
      "nbconvert_exporter": "python",
      "file_extension": ".py"
    }
  },
  "nbformat": 4,
  "nbformat_minor": 1
}